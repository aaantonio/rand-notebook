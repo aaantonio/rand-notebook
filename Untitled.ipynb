{
 "cells": [
  {
   "cell_type": "code",
   "execution_count": 1,
   "metadata": {
    "collapsed": false
   },
   "outputs": [],
   "source": [
    "from bs4 import BeautifulSoup\n",
    "import requests, wget"
   ]
  },
  {
   "cell_type": "code",
   "execution_count": 2,
   "metadata": {
    "collapsed": false
   },
   "outputs": [
    {
     "name": "stdout",
     "output_type": "stream",
     "text": [
      "What is your URL: https://m.youjizz.com\n"
     ]
    }
   ],
   "source": [
    "url = input('What is your URL: ')"
   ]
  },
  {
   "cell_type": "code",
   "execution_count": 3,
   "metadata": {
    "collapsed": false
   },
   "outputs": [],
   "source": [
    "source = requests.get(url)\n",
    "soup = BeautifulSoup(source.text, 'html.parser')"
   ]
  },
  {
   "cell_type": "markdown",
   "metadata": {},
   "source": [
    "print(soup.prettify)"
   ]
  },
  {
   "cell_type": "code",
   "execution_count": 4,
   "metadata": {
    "collapsed": true
   },
   "outputs": [],
   "source": [
    "xlist = soup.find_all('a', {'target':'_self'})"
   ]
  },
  {
   "cell_type": "code",
   "execution_count": 5,
   "metadata": {
    "collapsed": false
   },
   "outputs": [],
   "source": [
    "mp4list = [x.get('href') for x in xlist]\n",
    "# for x in xlist:\n",
    "#     print(x.get('href'))"
   ]
  },
  {
   "cell_type": "code",
   "execution_count": 6,
   "metadata": {
    "collapsed": false
   },
   "outputs": [
    {
     "name": "stdout",
     "output_type": "stream",
     "text": [
      "http://cdne.mobile.youjizz.com/videos/1/4/b/9/f/14b9fa943619f73ef66c3f1f66e34d401435893605-640-360-900-h264.mp4?validfrom=1470551651&validto=1470724451&rate=184320&hash=dHLM6oPolmY3q3WLhaq5BCfGwp8%3D\n",
      "http://cdne.mobile.youjizz.com/videos/b/7/a/1/8/b7a183474efa7db1d94927738c1f82aa1470386702-640-360-899-h264.mp4?validfrom=1470551651&validto=1470724451&rate=143360&hash=hztMPllfUGhFGUcuI0uT%2BQViVi8%3D\n",
      "http://cdne.mobile.youjizz.com/videos/9/7/6/f/c/976fc43c1066e2de65af622ef1ead0b51411500741-640-480-900-h264.mp4?validfrom=1470551651&validto=1470724451&rate=184320&hash=yPinlokHqIMms%2BIJZ2KGGEYxmxA%3D\n",
      "http://cdne.mobile.youjizz.com/videos/3/7/f/a/6/37fa66e808aefc386b7178d9280b95dc1430165103-640-360-900-h264.mp4?validfrom=1470551651&validto=1470724451&rate=184320&hash=I8fNkYUcdbMur36XzoA2Q%2BL4QFc%3D\n",
      "http://im.d9a5dd00.3bdf0d2.cdnb.mobile.yjcontentdelivery.com/videos/b/0/1/b/6/b01b66e6635c5fae56bb80fe0720456a1470399904-640-268-901-h264.mp4?ri=300&rs=180&s=1470551651&e=1470724451&h=6487f03635dfb716a88e09269bf95c3d\n",
      "http://cdne.mobile.youjizz.com/videos/6/4/b/0/8/64b08b07dde7fc7f168832a800433e681465239906-640-360-899-h264.mp4?validfrom=1470551651&validto=1470724451&rate=143360&hash=fN3DxRQlPRihCFtSAQ869dl9jeM%3D\n",
      "http://cdne.mobile.youjizz.com/videos/d/3/6/1/e/d361ebbab817961166cd7dd5880f30181409132402-480-270-399-h264.mp4?validfrom=1470551651&validto=1470724451&rate=143360&hash=N4XxI1phBs5xnVi6ZbrtwUypsEU%3D\n",
      "http://cdne.mobile.youjizz.com/videos/b/f/3/9/d/bf39d842749788cf268277458ff9ae471462734009-640-360-599-h264.mp4?validfrom=1470551651&validto=1470724451&rate=143360&hash=v9ZlQM4yGYmRh9N8SgBhTsg%2FlRs%3D\n",
      "http://cdne.mobile.youjizz.com/videos/f/7/7/4/6/f7746a9a64146db6932b4b4deb59a5e21442042104-640-360-600-h264.mp4?validfrom=1470551651&validto=1470724451&rate=143360&hash=WSDws42kOPjKAuE18xgsYF8J3GE%3D\n",
      "http://cdne.mobile.youjizz.com/videos/8/3/9/9/5/8399557df5e0daca385d02dde0b287cf1470260738-640-360-899-h264.mp4?validfrom=1470551651&validto=1470724451&rate=143360&hash=9aOOlmMxPwtUfw113P44wyRNXXg%3D\n",
      "http://cdne.mobile.youjizz.com/videos/6/2/c/2/a/62c2afcbf907cce32d335ec264a6b8d11469905809-426-240-400-h264.mp4?validfrom=1470551651&validto=1470724451&rate=143360&hash=j%2BmMJ7H0dP%2FpI3L8GSGwGP16yhE%3D\n",
      "http://im.d9a5dd00.225b821.cdnb.mobile.yjcontentdelivery.com/videos/7/9/1/4/0/791409bfcf5c681a4ec87802dbe8ca2f1461160809-480-270-399-h264.mp4?ri=300&rs=140&s=1470551651&e=1470724451&h=ed14da49cc0337e8d232c06a7120dd2c\n"
     ]
    }
   ],
   "source": [
    "print('\\n'.join(mp4list))"
   ]
  },
  {
   "cell_type": "code",
   "execution_count": null,
   "metadata": {
    "collapsed": false,
    "scrolled": true
   },
   "outputs": [
    {
     "name": "stdout",
     "output_type": "stream",
     "text": [
      "  3% [.                                                 ]   8527872 / 215809755"
     ]
    }
   ],
   "source": [
    "for link in mp4list:\n",
    "    try:\n",
    "        wget.download(link)\n",
    "    except:\n",
    "        continue"
   ]
  }
 ],
 "metadata": {
  "kernelspec": {
   "display_name": "Python 3",
   "language": "python",
   "name": "python3"
  },
  "language_info": {
   "codemirror_mode": {
    "name": "ipython",
    "version": 3
   },
   "file_extension": ".py",
   "mimetype": "text/x-python",
   "name": "python",
   "nbconvert_exporter": "python",
   "pygments_lexer": "ipython3",
   "version": "3.4.4"
  }
 },
 "nbformat": 4,
 "nbformat_minor": 0
}
