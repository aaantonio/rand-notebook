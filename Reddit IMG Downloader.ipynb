{
 "cells": [
  {
   "cell_type": "code",
   "execution_count": 5,
   "metadata": {
    "collapsed": true
   },
   "outputs": [],
   "source": [
    "import praw, requests, json\n",
    "from bs4 import BeautifulSoup"
   ]
  },
  {
   "cell_type": "code",
   "execution_count": 130,
   "metadata": {
    "collapsed": true
   },
   "outputs": [],
   "source": [
    "class Reddit(object):\n",
    "    def __init__(self, subr=0, limits=0):\n",
    "        self.subr = subr\n",
    "        self.limits = limits\n",
    "        \n",
    "        if self.subr == 0:\n",
    "            self.subr = input('Subreddit: ')\n",
    "        if self.limits == 0:\n",
    "            self.limits = input('Limits: ')\n",
    "            try:\n",
    "                self.limits = int(self.limits)\n",
    "            except:\n",
    "                self.limits = 20\n",
    "        try:\n",
    "            r = praw.Reddit(user_agent='Scripts')\n",
    "            sub = r.get_subreddit(self.subr).get_hot(limit=self.limits)\n",
    "            linklist = [x.url for x in sub]\n",
    "            self.links = linklist\n",
    "        except:\n",
    "            print('\\nSubreddit %s is not valid' % self.subr)\n",
    "            print('Please try other subreddit\\n')\n",
    "            Reddit.__init__(self)\n",
    "            \n",
    "        self.origlinks = self.links[:]\n",
    "        \n",
    "    def fixlinks(self):\n",
    "        pass\n",
    "    \n",
    "    def fiximgur(self):\n",
    "        pass\n",
    "    \n",
    "    def fixeroshare(self):\n",
    "        pass\n",
    "    \n",
    "    def fixgfycat(self, links=0):\n",
    "        ret = True\n",
    "        validlinks = ['mp4','gif','webm','gifv', 'giant']\n",
    "        \n",
    "        if links == 0:\n",
    "            links = self.links[:]\n",
    "            ret = False\n",
    "            \n",
    "        for x in links:\n",
    "            if 'gfycat' in x and not any(y in x for y in validlinks):\n",
    "                try:\n",
    "                    print('Processing:', x)\n",
    "                    link = x.replace('gfycat.com/', 'gfycat.com/cajax/get/')\n",
    "                    r = requests.get(link)\n",
    "                    j = json.loads(r.text)\n",
    "                    links[links.index(x)] = j['gfyItem']['mp4Url']\n",
    "\n",
    "                except:\n",
    "                    print('remove:', x)\n",
    "                    links.remove(x)\n",
    "\n",
    "        if not ret:\n",
    "            self.links = links\n",
    "        else:\n",
    "            return links\n",
    "    \n",
    "    def fixflickr(self):\n",
    "        pass\n",
    "    \n",
    "    def download(self):\n",
    "        pass\n",
    "    \n",
    "    def cleanurl(self, links=0):\n",
    "        ret=True\n",
    "        cleanlinks = []\n",
    "        deletedlinks = []\n",
    "        validlinks = ['.jpg','.png','.gif','imgur','gfycat','flickr','eroshare']\n",
    "        \n",
    "        if links == 0:\n",
    "            links = self.links[:]\n",
    "            ret = False\n",
    "        \n",
    "        for link in links:\n",
    "            if any(x in link for x in validlinks):\n",
    "                cleanlinks.append(link)\n",
    "            else:\n",
    "                print('remove:', link)\n",
    "                deletedlinks.append(link)\n",
    "                \n",
    "        if not ret:\n",
    "            self.links = cleanlinks\n",
    "            self.deletedlinks = deletedlinks\n",
    "        else:\n",
    "            return links"
   ]
  },
  {
   "cell_type": "code",
   "execution_count": 136,
   "metadata": {
    "collapsed": false,
    "scrolled": true
   },
   "outputs": [],
   "source": [
    "arnel = Reddit()"
   ]
  },
  {
   "cell_type": "code",
   "execution_count": 137,
   "metadata": {
    "collapsed": false,
    "scrolled": true
   },
   "outputs": [
    {
     "name": "stdout",
     "output_type": "stream",
     "text": [
      "Links:\n",
      "http://i.imgur.com/00ImrTM.jpg\n",
      "https://c2.staticflickr.com/8/7520/26411094323_a759ad9982_h.jpg\n",
      "https://c2.staticflickr.com/8/7692/26983541766_09cec40eaf_o.jpg\n",
      "http://i.imgur.com/kBxRYn6.jpg\n",
      "https://farm6.staticflickr.com/5777/23893717665_9b3f09ddad_k.jpg\n",
      "http://imgur.com/JWP9ytO\n",
      "https://www.flickr.com/photos/143063393@N02/26733234650/\n",
      "http://imgur.com/Ij3cfpd\n",
      "https://farm8.staticflickr.com/7776/26952495081_3becb00004_k.jpg\n",
      "http://i.imgur.com/UYHJOeS.jpg\n",
      "\n",
      "\n",
      "Cleaned:\n",
      "http://i.imgur.com/00ImrTM.jpg\n",
      "https://c2.staticflickr.com/8/7520/26411094323_a759ad9982_h.jpg\n",
      "https://c2.staticflickr.com/8/7692/26983541766_09cec40eaf_o.jpg\n",
      "http://i.imgur.com/kBxRYn6.jpg\n",
      "https://farm6.staticflickr.com/5777/23893717665_9b3f09ddad_k.jpg\n",
      "http://imgur.com/JWP9ytO\n",
      "https://www.flickr.com/photos/143063393@N02/26733234650/\n",
      "http://imgur.com/Ij3cfpd\n",
      "https://farm8.staticflickr.com/7776/26952495081_3becb00004_k.jpg\n",
      "http://i.imgur.com/UYHJOeS.jpg\n",
      "\n",
      "Deleted:\n",
      "\n"
     ]
    }
   ],
   "source": [
    "print('Links:\\n' + '\\n'.join(arnel.links) + '\\n')\n",
    "arnel.cleanurl()\n",
    "print('\\nCleaned:\\n' + '\\n'.join(arnel.links) + '\\n')\n",
    "print('Deleted:\\n' + '\\n'.join(arnel.deletedlinks))"
   ]
  },
  {
   "cell_type": "code",
   "execution_count": 138,
   "metadata": {
    "collapsed": false,
    "scrolled": true
   },
   "outputs": [
    {
     "data": {
      "text/plain": [
       "['http://i.imgur.com/00ImrTM.jpg',\n",
       " 'https://c2.staticflickr.com/8/7520/26411094323_a759ad9982_h.jpg',\n",
       " 'https://c2.staticflickr.com/8/7692/26983541766_09cec40eaf_o.jpg',\n",
       " 'http://i.imgur.com/kBxRYn6.jpg',\n",
       " 'https://farm6.staticflickr.com/5777/23893717665_9b3f09ddad_k.jpg',\n",
       " 'http://imgur.com/JWP9ytO',\n",
       " 'https://www.flickr.com/photos/143063393@N02/26733234650/',\n",
       " 'http://imgur.com/Ij3cfpd',\n",
       " 'https://farm8.staticflickr.com/7776/26952495081_3becb00004_k.jpg',\n",
       " 'http://i.imgur.com/UYHJOeS.jpg']"
      ]
     },
     "execution_count": 138,
     "metadata": {},
     "output_type": "execute_result"
    }
   ],
   "source": [
    "arnel.cleanurl(arnel.links)"
   ]
  },
  {
   "cell_type": "code",
   "execution_count": 139,
   "metadata": {
    "collapsed": false
   },
   "outputs": [],
   "source": [
    "arnel.fixgfycat()"
   ]
  },
  {
   "cell_type": "code",
   "execution_count": 140,
   "metadata": {
    "collapsed": false,
    "scrolled": true
   },
   "outputs": [
    {
     "data": {
      "text/plain": [
       "['http://i.imgur.com/00ImrTM.jpg',\n",
       " 'https://c2.staticflickr.com/8/7520/26411094323_a759ad9982_h.jpg',\n",
       " 'https://c2.staticflickr.com/8/7692/26983541766_09cec40eaf_o.jpg',\n",
       " 'http://i.imgur.com/kBxRYn6.jpg',\n",
       " 'https://farm6.staticflickr.com/5777/23893717665_9b3f09ddad_k.jpg',\n",
       " 'http://imgur.com/JWP9ytO',\n",
       " 'https://www.flickr.com/photos/143063393@N02/26733234650/',\n",
       " 'http://imgur.com/Ij3cfpd',\n",
       " 'https://farm8.staticflickr.com/7776/26952495081_3becb00004_k.jpg',\n",
       " 'http://i.imgur.com/UYHJOeS.jpg']"
      ]
     },
     "execution_count": 140,
     "metadata": {},
     "output_type": "execute_result"
    }
   ],
   "source": [
    "arnel.cleanurl(arnel.links)"
   ]
  }
 ],
 "metadata": {
  "kernelspec": {
   "display_name": "Python 3",
   "language": "python",
   "name": "python3"
  },
  "language_info": {
   "codemirror_mode": {
    "name": "ipython",
    "version": 3
   },
   "file_extension": ".py",
   "mimetype": "text/x-python",
   "name": "python",
   "nbconvert_exporter": "python",
   "pygments_lexer": "ipython3",
   "version": "3.4.4"
  }
 },
 "nbformat": 4,
 "nbformat_minor": 0
}
