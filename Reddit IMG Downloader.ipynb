{
 "cells": [
  {
   "cell_type": "code",
   "execution_count": null,
   "metadata": {
    "collapsed": true
   },
   "outputs": [],
   "source": [
    "import praw, requests\n",
    "from bs4 import BeautifulSoup"
   ]
  },
  {
   "cell_type": "code",
   "execution_count": null,
   "metadata": {
    "collapsed": false
   },
   "outputs": [],
   "source": [
    "class Reddit(object):\n",
    "    def __init__(self, subr=0, limits=0):\n",
    "        self.links = []\n",
    "        pass\n",
    "        self.subr = subr\n",
    "        self.limits = limits\n",
    "        \n",
    "        if self.subr == 0:\n",
    "            self.subr = input('Subreddit: ')\n",
    "        if self.limits == 0:\n",
    "            self.limits = input('Limits: ')\n",
    "            try:\n",
    "                self.limits = int(self.limits)\n",
    "            except:\n",
    "                self.limits = 20\n",
    "                \n",
    "        \n",
    "    def getsubreddit(self):\n",
    "        r = praw.Reddit(user_agent='Scripts')\n",
    "        sub = r.get_subreddit(self.subr).get_hot(limit=self.limits)\n",
    "        linklist = [x.url for x in sub]\n",
    "        self.links = linklist\n",
    "        \n",
    "    def fixlinks(self):\n",
    "        pass\n",
    "    \n",
    "    def fiximgur(self):\n",
    "        pass\n",
    "    \n",
    "    def fixeroshare(self):\n",
    "        pass\n",
    "    \n",
    "    def fixgfycat(self):\n",
    "        pass\n",
    "    \n",
    "    def fixflickr(self):\n",
    "        pass\n",
    "    \n",
    "arnel = Reddit()"
   ]
  },
  {
   "cell_type": "code",
   "execution_count": null,
   "metadata": {
    "collapsed": true
   },
   "outputs": [],
   "source": [
    "arnel.getsubreddit()"
   ]
  },
  {
   "cell_type": "code",
   "execution_count": null,
   "metadata": {
    "collapsed": false
   },
   "outputs": [],
   "source": [
    "print('\\n'.join(arnel.links))"
   ]
  }
 ],
 "metadata": {
  "kernelspec": {
   "display_name": "Python 3",
   "language": "python",
   "name": "python3"
  },
  "language_info": {
   "codemirror_mode": {
    "name": "ipython",
    "version": 3
   },
   "file_extension": ".py",
   "mimetype": "text/x-python",
   "name": "python",
   "nbconvert_exporter": "python",
   "pygments_lexer": "ipython3",
   "version": "3.5.1"
  }
 },
 "nbformat": 4,
 "nbformat_minor": 0
}
