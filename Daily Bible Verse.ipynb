{
 "cells": [
  {
   "cell_type": "code",
   "execution_count": 1,
   "metadata": {
    "collapsed": true,
    "slideshow": {
     "slide_type": "-"
    }
   },
   "outputs": [],
   "source": [
    "import requests\n",
    "from bs4 import BeautifulSoup\n",
    "from datetime import datetime"
   ]
  },
  {
   "cell_type": "code",
   "execution_count": 2,
   "metadata": {
    "collapsed": false
   },
   "outputs": [],
   "source": [
    "#This will generate a url base on date\n",
    "#sample http://www.verseoftheday.com/en/05222016\n",
    "\n",
    "date = datetime.strftime(datetime.now(), '%m%d%Y')\n",
    "url = 'http://www.verseoftheday.com/en/%s' % date"
   ]
  },
  {
   "cell_type": "code",
   "execution_count": 3,
   "metadata": {
    "collapsed": true
   },
   "outputs": [],
   "source": [
    "headers = {'User-Agent': 'Mozilla/5.0'}          \n",
    "source = requests.get(url, headers=headers)\n",
    "soup = BeautifulSoup(source.text, 'html.parser')"
   ]
  },
  {
   "cell_type": "markdown",
   "metadata": {},
   "source": [
    "print(soup.prettify)"
   ]
  },
  {
   "cell_type": "markdown",
   "metadata": {
    "collapsed": true
   },
   "source": [
    "soup.find_all('meta', {'property':'og:title'})[0].get('content')"
   ]
  },
  {
   "cell_type": "code",
   "execution_count": 4,
   "metadata": {
    "collapsed": true
   },
   "outputs": [],
   "source": [
    "#This will get the text and scripture\n",
    "\n",
    "text = soup.select('.bilingual-left')[0].contents[1].text[1:]\n",
    "scripture = soup.select('.bilingual-left')[0].contents[0].string"
   ]
  },
  {
   "cell_type": "code",
   "execution_count": 5,
   "metadata": {
    "collapsed": false
   },
   "outputs": [
    {
     "name": "stdout",
     "output_type": "stream",
     "text": [
      "But food does not bring us near to God; we are no worse if we do not eat, and no better if we do. Be careful, however, that the exercise of your freedom does not become a stumbling block to the weak. 1 Corinthians 8:8-9\n"
     ]
    }
   ],
   "source": [
    "print(scripture, text)"
   ]
  }
 ],
 "metadata": {
  "kernelspec": {
   "display_name": "Python 3",
   "language": "python",
   "name": "python3"
  },
  "language_info": {
   "codemirror_mode": {
    "name": "ipython",
    "version": 3
   },
   "file_extension": ".py",
   "mimetype": "text/x-python",
   "name": "python",
   "nbconvert_exporter": "python",
   "pygments_lexer": "ipython3",
   "version": "3.4.4"
  }
 },
 "nbformat": 4,
 "nbformat_minor": 0
}
